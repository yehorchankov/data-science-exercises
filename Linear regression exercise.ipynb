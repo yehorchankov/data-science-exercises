{
 "cells": [
  {
   "cell_type": "markdown",
   "metadata": {},
   "source": [
    "# Linear Regression\n",
    "## Finding meaningful dependencies"
   ]
  },
  {
   "cell_type": "code",
   "execution_count": null,
   "metadata": {},
   "outputs": [],
   "source": [
    "# Import libraries\n",
    "import numpy as np\n",
    "import matplotlib.pyplot as plt\n",
    "import seaborn as sb\n",
    "import pandas as pd"
   ]
  },
  {
   "cell_type": "code",
   "execution_count": null,
   "metadata": {},
   "outputs": [],
   "source": [
    "# More information on dataset: https://archive.ics.uci.edu/ml/machine-learning-databases/housing/housing.names\n",
    "\n",
    "### WRITE CODE HERE\n",
    "df = None # Download data from https://archive.ics.uci.edu/ml/machine-learning-databases/housing/housing.data\n",
    "### WRITE CODE HERE\n",
    "\n",
    "feature_names = ['CRIM', 'ZN', 'INDUS', 'CHAS', \n",
    "                 'NOX', 'RM', 'AGE', 'DIS', 'RAD', \n",
    "                 'TAX', 'PTRATIO', 'B', 'LSTAT', 'MEDV']\n",
    "\n",
    "### WRITE CODE HERE\n",
    "df.columns = None # set column names to feature names\n",
    "### WRITE CODE HERE"
   ]
  },
  {
   "cell_type": "code",
   "execution_count": null,
   "metadata": {},
   "outputs": [],
   "source": [
    "# Let's see how the columns are correlated\n",
    "sb.set(style='whitegrid', context='notebook')\n",
    "sb.pairplot(df)\n",
    "plt.show()"
   ]
  },
  {
   "cell_type": "code",
   "execution_count": null,
   "metadata": {},
   "outputs": [],
   "source": [
    "# Find the columns, that are the most lineary dependable on MEDV column\n",
    "\n",
    "### WRITE CODE HERE\n",
    "cols = []\n",
    "### WRITE CODE HERE\n",
    "\n",
    "linear_columns = df[cols]\n",
    "sb.pairplot(linear_columns)\n",
    "plt.show()"
   ]
  },
  {
   "cell_type": "code",
   "execution_count": null,
   "metadata": {},
   "outputs": [],
   "source": [
    "# Find the coefficient of correlation between values\n",
    "# Note: use numpy corrcoef(dataframe.values) function to find Pearson product-moment correlation coefficients\n",
    "# Link: https://docs.scipy.org/doc/numpy-1.14.0/reference/generated/numpy.corrcoef.html\n",
    "\n",
    "### WRITE CODE HERE\n",
    "cm = None\n",
    "### WRITE CODE HERE\n",
    "\n",
    "sb.set(font_scale=1.5)\n",
    "heatmap = sb.heatmap(cm, cbar=True, annot=True, square=True,\n",
    "                     fmt='.2f', annot_kws={'size':15},\n",
    "                     yticklabels=cols, xticklabels=cols)\n",
    "plt.show() \n",
    "sb.reset_orig()"
   ]
  },
  {
   "cell_type": "markdown",
   "metadata": {},
   "source": [
    "#### We can see that value mostly depends on room numbers\n",
    "\n",
    "# Let's implement our own linear regression!\n",
    "\n",
    "Basically, the equation of a line in 2 dimentional grid looks like this:\n",
    "\n",
    "$$y = x*w_{1}+w_{0}$$\n",
    "\n",
    "Where $$w_{1}$$ is the slope coefficient, and $$w_{0}$$ is the shift."
   ]
  },
  {
   "cell_type": "code",
   "execution_count": null,
   "metadata": {},
   "outputs": [],
   "source": [
    "# Set parameters of linear regression\n",
    "w1 = None\n",
    "w0 = None"
   ]
  },
  {
   "cell_type": "markdown",
   "metadata": {},
   "source": [
    "Now we will make a function, that finds the y, given x input:"
   ]
  },
  {
   "cell_type": "code",
   "execution_count": null,
   "metadata": {},
   "outputs": [],
   "source": [
    "def line(x):\n",
    "    global w1\n",
    "    global w0\n",
    "    \n",
    "    ### WRITE CODE HERE\n",
    "    y = None\n",
    "    ### WRITE CODE HERE\n",
    "    \n",
    "    return y"
   ]
  },
  {
   "cell_type": "markdown",
   "metadata": {},
   "source": [
    "The core part of linear regression algorithm is a method, that finds the coefficients w1 and w0. These may be found in different ways (like Gradient descent) but will use standard statistical method.\n",
    "\n",
    "What should we do:\n",
    "\n",
    "1. Calculate mean of all x\n",
    "2. Calculate mean of all y\n",
    "3. Find variance of x: mean of sum of squared differences between x and mean x\n",
    "4. Find covariance between x and y: mean of differences between x and its mean multiplied by differences of y and its mean\n",
    "5. w1 is the covariance divided by x's variance\n",
    "6. w0 is the difference between y's mean and w1 multiplied by x's mean "
   ]
  },
  {
   "cell_type": "code",
   "execution_count": null,
   "metadata": {},
   "outputs": [],
   "source": [
    "def core(x, y):\n",
    "    # Note: use numpy mean(x) function to find mean over columns or rows \n",
    "    ### WRITE CODE HERE\n",
    "    mean_x = None\n",
    "    mean_y = None\n",
    "    var_x = None\n",
    "    cov_xy = None\n",
    "    w1 = None\n",
    "    w0 = None\n",
    "    ### WRITE CODE HERE\n",
    "    \n",
    "    return w1, w0"
   ]
  },
  {
   "cell_type": "markdown",
   "metadata": {},
   "source": [
    "In machine learning, almost all developers, who implement ML algorithms, use methods fit and predict as a standard API. If you look at implementation of algorithms in sklearn, you may see that the developers stick to this rule.\n",
    "\n",
    "Now let's create a method fit. This method mostly takes two arguments - x and y and returns the object itself. As we write it outside the class, the method returns nothing."
   ]
  },
  {
   "cell_type": "code",
   "execution_count": null,
   "metadata": {},
   "outputs": [],
   "source": [
    "def fit(x, y):\n",
    "    # Initialize parameters here\n",
    "    # Do some math\n",
    "    return core(x, y)"
   ]
  },
  {
   "cell_type": "markdown",
   "metadata": {},
   "source": [
    "Finally, make some predictions:"
   ]
  },
  {
   "cell_type": "code",
   "execution_count": null,
   "metadata": {},
   "outputs": [],
   "source": [
    "def predict(x):\n",
    "    return line(x)"
   ]
  },
  {
   "cell_type": "markdown",
   "metadata": {},
   "source": [
    "# Standard scaler\n",
    "\n",
    "Here is a class that should help you to standardize your data (remove mean and divide by standard deviation)"
   ]
  },
  {
   "cell_type": "code",
   "execution_count": null,
   "metadata": {},
   "outputs": [],
   "source": [
    "class Scaler:\n",
    "    def fit(self, data):\n",
    "        self.mean = np.mean(data)\n",
    "        sum_sq = ((data-self.mean)**2).sum()\n",
    "        self.N = len(data)\n",
    "        self.std_dev = np.sqrt(sum_sq/self.N)\n",
    "    \n",
    "    def fit_std(self, data):\n",
    "        self.fit(data)\n",
    "        return self.standardize(data)\n",
    "    \n",
    "    def standardize(self, data):\n",
    "        return (data - self.mean)/self.std_dev\n",
    "    \n",
    "    def revert(self, data_std):\n",
    "        return data_std*self.std_dev+self.mean"
   ]
  },
  {
   "cell_type": "markdown",
   "metadata": {},
   "source": [
    "# Now we will put what we have altogether"
   ]
  },
  {
   "cell_type": "code",
   "execution_count": null,
   "metadata": {},
   "outputs": [],
   "source": [
    "# Start from creating standard scaler instance for every column - x and y\n",
    "### WRITE CODE HERE\n",
    "x_sc = None\n",
    "y_sc = None\n",
    "# Select the data by columns, that we are intersted in and take its values \n",
    "# by calling .values attribute - this returns numpy array, that we will work with\n",
    "x_train = None\n",
    "y_train = None\n",
    "# Standardize your data then\n",
    "x_std = None\n",
    "y_std = None\n",
    "### WRITE CODE HERE"
   ]
  },
  {
   "cell_type": "code",
   "execution_count": null,
   "metadata": {},
   "outputs": [],
   "source": [
    "# Now let's create fit the data and find our coefficients\n",
    "w1, w0 = fit(x_std, y_std)"
   ]
  },
  {
   "cell_type": "markdown",
   "metadata": {},
   "source": [
    "# Visualize results"
   ]
  },
  {
   "cell_type": "code",
   "execution_count": null,
   "metadata": {},
   "outputs": [],
   "source": [
    "plt.scatter(x_std, y_std, color='lightblue')\n",
    "plt.plot(x_std, predict(x_std), color='orange')\n",
    "plt.title('Linear regression')\n",
    "plt.xlabel('Average number of rooms (std)')\n",
    "plt.ylabel('Price*1000$ (std)')\n",
    "plt.show()"
   ]
  },
  {
   "cell_type": "markdown",
   "metadata": {},
   "source": [
    "# How much will 5 rooms cost?"
   ]
  },
  {
   "cell_type": "code",
   "execution_count": null,
   "metadata": {},
   "outputs": [],
   "source": [
    "input_std = x_sc.standardize([5.0])\n",
    "pred_lr = predict(input_std)\n",
    "pred_lr = x_sc.revert(pred_lr)[0]\n",
    "\n",
    "print(f'Linear regression predicted cost: {pred_lr*1000:.2f}$')"
   ]
  }
 ],
 "metadata": {
  "kernelspec": {
   "display_name": "Python 3",
   "language": "python",
   "name": "python3"
  },
  "language_info": {
   "codemirror_mode": {
    "name": "ipython",
    "version": 3
   },
   "file_extension": ".py",
   "mimetype": "text/x-python",
   "name": "python",
   "nbconvert_exporter": "python",
   "pygments_lexer": "ipython3",
   "version": "3.6.1"
  }
 },
 "nbformat": 4,
 "nbformat_minor": 2
}
